{
 "cells": [
  {
   "cell_type": "code",
   "execution_count": 1,
   "metadata": {
    "id": "vjkZudnhJtA_"
   },
   "outputs": [],
   "source": [
    "import pandas as pd\n",
    "\n",
    "# Create the Project dataframe\n",
    "project_data = {\n",
    "    \"ID\": [\"A001\", \"A002\", \"A003\", \"A004\", \"A005\", \"A002\", \"A005\", \"A003\", \"A001\", \"A003\", \"A001\", \"A004\", \"A004\", \"A005\"],\n",
    "    \"Project\": [\"Project 1\", \"Project 2\", \"Project 3\", \"Project 4\", \"Project 5\", \"Project 6\", \"Project 7\", \"Project 8\", \"Project 9\", \"Project 10\", \"Project 11\", \"Project 12\", \"Project 13\", \"Project 14\"],\n",
    "    \"Cost\": [1002000, 2000000, 4500000, 5500000, None, 680000, 400000, 350000, None, 300000, 2000000, 1000000, 3000000, 200000],\n",
    "    \"Status\": [\"Finished\", \"Ongoing\", \"Finished\", \"Ongoing\", \"Finished\", \"Failed\", \"Finished\", \"Failed\", \"Ongoing\", \"Finished\", \"Failed\", \"Ongoing\", \"Finished\", \"Finished\"]\n",
    "}\n",
    "project_df = pd.DataFrame(project_data)\n",
    "\n",
    "# Save Project dataframe to CSV\n",
    "project_df.to_csv(\"project_data.csv\", index=False)\n",
    "\n",
    "# Create the Employee dataframe\n",
    "employee_data = {\n",
    "    \"ID\": [\"A001\", \"A002\", \"A003\", \"A004\", \"A005\"],\n",
    "    \"Name\": [\"John Alter\", \"Alice Luxumberg\", \"Tom Sabestine\", \"Nina Adgra\", \"Amy. Johny\"],\n",
    "    \"Gender\": [\"M\", \"F\", \"M\", \"F\", \"F\"],\n",
    "    \"City\": [\"Paris\", \"London\", \"Berlin\", \"Newyork\", \"Madrid\"],\n",
    "    \"Age\": [25, 27, 29, 31, 30]\n",
    "}\n",
    "employee_df = pd.DataFrame(employee_data)\n",
    "\n",
    "# Save Employee dataframe to CSV\n",
    "employee_df.to_csv(\"employee_data.csv\", index=False)\n",
    "\n",
    "# Create the Seniority Level dataframe\n",
    "seniority_data = {\n",
    "    \"ID\": [\"A001\", \"A002\", \"A003\", \"A004\", \"A005\"],\n",
    "    \"Designation Level\": [2, 2, 3, 2, 3]\n",
    "}\n",
    "seniority_df = pd.DataFrame(seniority_data)\n",
    "\n",
    "# Save Seniority Level dataframe to CSV\n",
    "seniority_df.to_csv(\"seniority_data.csv\", index=False)\n"
   ]
  },
  {
   "cell_type": "markdown",
   "metadata": {
    "id": "cWt3ol-pKqb9"
   },
   "source": [
    "This code will create three CSV files named \"project_data.csv\", \"employee_data.csv\", and \"seniority_data.csv\" containing the respective dataframes."
   ]
  },
  {
   "cell_type": "code",
   "execution_count": 2,
   "metadata": {
    "id": "M1VYPnsvKrTV"
   },
   "outputs": [],
   "source": [
    "import pandas as pd\n",
    "\n",
    "# Load the project dataframe from CSV\n",
    "project_df = pd.read_csv(\"project_data.csv\")\n",
    "\n",
    "# Compute the running average for the cost column\n",
    "running_average = 0\n",
    "count = 0\n",
    "for index, row in project_df.iterrows():\n",
    "    if pd.isnull(row['Cost']):\n",
    "        project_df.at[index, 'Cost'] = running_average\n",
    "    else:\n",
    "        running_average = (running_average * count + row['Cost']) / (count + 1)\n",
    "        count += 1\n",
    "\n",
    "# Save the modified dataframe back to CSV\n",
    "project_df.to_csv(\"project_data_updated.csv\", index=False)\n"
   ]
  },
  {
   "cell_type": "markdown",
   "metadata": {
    "id": "6bzsWPmPK68S"
   },
   "source": [
    "This code iterates over each row in the dataframe, calculates the running average of the \"Cost\" column, and replaces the missing values with this running average. The modified dataframe is then saved to a new CSV file named \"project_data_updated.csv\"."
   ]
  },
  {
   "cell_type": "code",
   "execution_count": 3,
   "metadata": {
    "id": "Ig7dwY_pK7gY"
   },
   "outputs": [],
   "source": [
    "import pandas as pd\n",
    "\n",
    "# Load the employee dataframe from CSV\n",
    "employee_df = pd.read_csv(\"employee_data.csv\")\n",
    "\n",
    "# Split the Name column into First Name and Last Name\n",
    "employee_df[['First Name', 'Last Name']] = employee_df['Name'].str.split(' ', expand=True)\n",
    "\n",
    "# Remove the old Name column\n",
    "employee_df.drop(columns=['Name'], inplace=True)\n",
    "\n",
    "# Save the modified dataframe back to CSV\n",
    "employee_df.to_csv(\"employee_data_updated.csv\", index=False)\n"
   ]
  },
  {
   "cell_type": "markdown",
   "metadata": {
    "id": "1-cib3EwLHxw"
   },
   "source": [
    "This code splits the \"Name\" column into two new columns, \"First Name\" and \"Last Name\", using the str.split() method. Then it removes the old \"Name\" column using the drop() method with the columns parameter set to the list containing the column name. Finally, it saves the modified dataframe to a new CSV file named \"employee_data_updated.csv\"."
   ]
  },
  {
   "cell_type": "code",
   "execution_count": 4,
   "metadata": {
    "id": "9ZSn7O7tLHof"
   },
   "outputs": [],
   "source": [
    "import pandas as pd\n",
    "\n",
    "# Load the dataframes from CSV files\n",
    "project_df = pd.read_csv(\"project_data.csv\")\n",
    "employee_df = pd.read_csv(\"employee_data_updated.csv\")\n",
    "seniority_df = pd.read_csv(\"seniority_data.csv\")\n",
    "\n",
    "# Merge all three dataframes on the common column \"ID\"\n",
    "final_df = pd.merge(project_df, employee_df, on=\"ID\")\n",
    "final_df = pd.merge(final_df, seniority_df, on=\"ID\")\n",
    "\n",
    "# Save the merged dataframe to a new CSV file\n",
    "final_df.to_csv(\"final.csv\", index=False)\n"
   ]
  },
  {
   "cell_type": "markdown",
   "metadata": {
    "id": "uzk2Y2TcLLrO"
   },
   "source": [
    "In this code: \n",
    "we loads the three dataframes from their respective CSV files, then merges them sequentially on the common column \"ID\" using the merge function. Finally, it saves the merged dataframe to a new CSV file named \"final.csv\". Now you have all the data combined into one dataframe named \"Final\"."
   ]
  },
  {
   "cell_type": "code",
   "execution_count": 5,
   "metadata": {
    "id": "GfRVwaLpLLhN"
   },
   "outputs": [],
   "source": [
    "import pandas as pd\n",
    "\n",
    "# Load the Final dataframe from the CSV file\n",
    "final_df = pd.read_csv(\"final.csv\")\n",
    "\n",
    "# Calculate bonus for employees who have finished projects\n",
    "final_df['Bonus'] = 0.0\n",
    "final_df.loc[final_df['Status'] == 'Finished', 'Bonus'] = final_df['Cost'] * 0.05\n",
    "\n",
    "# Save the modified dataframe back to CSV\n",
    "final_df.to_csv(\"final_with_bonus.csv\", index=False)\n"
   ]
  },
  {
   "cell_type": "markdown",
   "metadata": {
    "id": "UuD4lXN5LfRs"
   },
   "source": [
    "In this code:\n",
    "We load the \"Final\" dataframe from the CSV file.\n",
    "We initialize a new column \"Bonus\" with zeros.\n",
    "We use boolean indexing to select rows where the \"Status\" is \"Finished\" and calculate the bonus as 5% of the project cost for those rows.\n",
    "We save the modified dataframe with the added \"Bonus\" column to a new CSV file named \"final_with_bonus.csv\".\n",
    "Now, the \"Final\" dataframe has a new column \"Bonus\" containing the 5% bonus for employees who have finished projects."
   ]
  },
  {
   "cell_type": "code",
   "execution_count": 6,
   "metadata": {
    "id": "H2aE-MZ2LfHw"
   },
   "outputs": [],
   "source": [
    "import pandas as pd\n",
    "\n",
    "# Load the Final dataframe with bonus from the CSV file\n",
    "final_df = pd.read_csv(\"final_with_bonus.csv\")\n",
    "\n",
    "# Demote the designation level by 1 for employees whose projects have status \"Failed\"\n",
    "final_df.loc[final_df['Status'] == 'Failed', 'Designation Level'] -= 1\n",
    "\n",
    "# Delete the records of employees whose designation level is above 4\n",
    "final_df = final_df[final_df['Designation Level'] <= 4]\n",
    "\n",
    "# Save the modified dataframe back to CSV\n",
    "final_df.to_csv(\"final_modified.csv\", index=False)\n"
   ]
  },
  {
   "cell_type": "markdown",
   "metadata": {
    "id": "-3ZqnSahLoWv"
   },
   "source": [
    "In this code:\n",
    "We load the \"Final\" dataframe with bonus from the CSV file.\n",
    "We use boolean indexing to select rows where the project status is \"Failed\" and decrease the designation level by 1 for those rows.\n",
    "We filter out the records of employees whose designation level is above 4 using boolean indexing.\n",
    "We save the modified dataframe to a new CSV file named \"final_modified.csv\".\n",
    "Now, the \"Final\" dataframe has been modified according to the requirements of Task 6."
   ]
  },
  {
   "cell_type": "code",
   "execution_count": 7,
   "metadata": {
    "id": "9B9AUELtLoNw"
   },
   "outputs": [],
   "source": [
    "import pandas as pd\n",
    "\n",
    "# Load the Final dataframe with modifications from the CSV file\n",
    "final_df = pd.read_csv(\"final_modified.csv\")\n",
    "\n",
    "# Add \"Mr.\" and \"Mrs.\" prefixes to the first name column based on gender\n",
    "final_df['First Name'] = final_df.apply(lambda row: \"Mr. \" + row['First Name'] if row['Gender'] == 'M' else \"Mrs. \" + row['First Name'], axis=1)\n",
    "\n",
    "# Drop the Gender column\n",
    "final_df.drop(columns=['Gender'], inplace=True)\n",
    "\n",
    "# Save the modified dataframe back to CSV\n",
    "final_df.to_csv(\"final_modified_with_prefix.csv\", index=False)\n"
   ]
  },
  {
   "cell_type": "markdown",
   "metadata": {
    "id": "Tr21YNtwLrqz"
   },
   "source": [
    "In this code:\n",
    "We load the \"Final\" dataframe with modifications from the CSV file.\n",
    "We use the apply function along with a lambda function to add \"Mr.\" or \"Mrs.\" prefixes to the \"First Name\" column based on the gender.\n",
    "We drop the \"Gender\" column using the drop function with the columns parameter set to the list containing the column name.\n",
    "We save the modified dataframe to a new CSV file named \"final_modified_with_prefix.csv\".\n",
    "Now, the \"Final\" dataframe has been modified according to the requirements of Task 7."
   ]
  },
  {
   "cell_type": "code",
   "execution_count": 8,
   "metadata": {
    "id": "oITooCpoLrhS"
   },
   "outputs": [],
   "source": [
    "import pandas as pd\n",
    "\n",
    "# Load the Final dataframe with modifications from the CSV file\n",
    "final_df = pd.read_csv(\"final_modified_with_prefix.csv\")\n",
    "\n",
    "# Promote designation level by 1 for employees whose age is more than 29 years\n",
    "final_df.loc[final_df['Age'] > 29, 'Designation Level'] += 1\n",
    "\n",
    "# Save the modified dataframe back to CSV\n",
    "final_df.to_csv(\"final_modified_promoted.csv\", index=False)\n"
   ]
  },
  {
   "cell_type": "markdown",
   "metadata": {
    "id": "m6DvfEIVL0_N"
   },
   "source": [
    "In this code:\n",
    "We load the \"Final\" dataframe with modifications from the CSV file.\n",
    "We use boolean indexing to select rows where the age is more than 29 and increase the designation level by 1 for those rows.\n",
    "We save the modified dataframe to a new CSV file named \"final_modified_promoted.csv\".\n",
    "Now, the \"Final\" dataframe has been modified according to the requirements of Task 8."
   ]
  },
  {
   "cell_type": "code",
   "execution_count": 9,
   "metadata": {
    "id": "f6fDf6_5L00s"
   },
   "outputs": [],
   "source": [
    "import pandas as pd\n",
    "\n",
    "# Load the Final dataframe with modifications from the CSV file\n",
    "final_df = pd.read_csv(\"final_modified_promoted.csv\")\n",
    "\n",
    "# Group by ID and First Name and calculate the total cost of all projects for each employee\n",
    "total_proj_cost_df = final_df.groupby(['ID', 'First Name'])['Cost'].sum().reset_index()\n",
    "total_proj_cost_df.rename(columns={'Cost': 'Total cost'}, inplace=True)\n",
    "\n",
    "# Save the new dataframe to CSV\n",
    "total_proj_cost_df.to_csv(\"total_proj_cost.csv\", index=False)\n"
   ]
  },
  {
   "cell_type": "markdown",
   "metadata": {
    "id": "KkN7HP5iMGTV"
   },
   "source": [
    "In this code:\n",
    "We load the \"Final\" dataframe with modifications from the CSV file.\n",
    "We group the dataframe by \"ID\" and \"First Name\" and calculate the sum of the \"Cost\" column for each group, representing the total cost of all projects for each employee.\n",
    "We reset the index to convert the grouped data into a dataframe.\n",
    "We rename the \"Cost\" column to \"Total cost\".\n",
    "We save the new dataframe \"TotalProjCost\" to a CSV file named \"total_proj_cost.csv\"."
   ]
  },
  {
   "cell_type": "code",
   "execution_count": 10,
   "metadata": {
    "colab": {
     "base_uri": "https://localhost:8080/"
    },
    "id": "hhfMYTqEMGLG",
    "outputId": "613f1a7d-6837-4125-fc21-36a8bb3a216e"
   },
   "outputs": [
    {
     "name": "stdout",
     "output_type": "stream",
     "text": [
      "      ID     Project       Cost    Status     City  Age  First Name  \\\n",
      "3   A002   Project 2  2000000.0   Ongoing   London   27  Mrs. Alice   \n",
      "4   A002   Project 6   680000.0    Failed   London   27  Mrs. Alice   \n",
      "8   A004   Project 4  5500000.0   Ongoing  Newyork   31   Mrs. Nina   \n",
      "9   A004  Project 12  1000000.0   Ongoing  Newyork   31   Mrs. Nina   \n",
      "10  A004  Project 13  3000000.0  Finished  Newyork   31   Mrs. Nina   \n",
      "\n",
      "    Last Name  Designation Level     Bonus  \n",
      "3   Luxumberg                  2       0.0  \n",
      "4   Luxumberg                  1       0.0  \n",
      "8       Adgra                  3       0.0  \n",
      "9       Adgra                  3       0.0  \n",
      "10      Adgra                  3  150000.0  \n"
     ]
    }
   ],
   "source": [
    "import pandas as pd\n",
    "\n",
    "# Load the Final dataframe with modifications from the CSV file\n",
    "final_df = pd.read_csv(\"final_modified_promoted.csv\")\n",
    "\n",
    "# Filter the rows where the city name contains the letter \"o\"\n",
    "filtered_df = final_df[final_df['City'].str.contains('o', case=False)]\n",
    "\n",
    "# Print the employee details\n",
    "print(filtered_df)\n"
   ]
  },
  {
   "cell_type": "markdown",
   "metadata": {},
   "source": [
    "In this code:\n",
    "We load the \"Final\" dataframe with modifications from the CSV file.\n",
    "We use the str.contains() method to check if the city name contains the letter \"o\" (case-insensitive).\n",
    "We use boolean indexing to filter the rows where the city name contains the letter \"o\".\n",
    "We print the filtered dataframe containing the employee details whose city name contains the letter \"o\"."
   ]
  }
 ],
 "metadata": {
  "colab": {
   "provenance": []
  },
  "kernelspec": {
   "display_name": "Python 3 (ipykernel)",
   "language": "python",
   "name": "python3"
  },
  "language_info": {
   "codemirror_mode": {
    "name": "ipython",
    "version": 3
   },
   "file_extension": ".py",
   "mimetype": "text/x-python",
   "name": "python",
   "nbconvert_exporter": "python",
   "pygments_lexer": "ipython3",
   "version": "3.11.7"
  }
 },
 "nbformat": 4,
 "nbformat_minor": 1
}
